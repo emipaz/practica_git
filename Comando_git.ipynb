{
 "cells": [
  {
   "cell_type": "markdown",
   "metadata": {},
   "source": [
    "# Comandos Git\n",
    "\n",
    "voy a utilizar un repo que ya tenia para paractica de git"
   ]
  },
  {
   "cell_type": "code",
   "execution_count": 1,
   "metadata": {},
   "outputs": [
    {
     "name": "stdout",
     "output_type": "stream",
     "text": [
      "Clonando en 'practica_git'...\n",
      "remote: Enumerating objects: 47, done.\u001b[K\n",
      "remote: Counting objects: 100% (47/47), done.\u001b[K\n",
      "remote: Compressing objects: 100% (27/27), done.\u001b[K\n",
      "remote: Total 47 (delta 16), reused 47 (delta 16), pack-reused 0\u001b[K\n",
      "Recibiendo objetos: 100% (47/47), 7.51 KiB | 591.00 KiB/s, listo.\n",
      "Resolviendo deltas: 100% (16/16), listo.\n"
     ]
    }
   ],
   "source": [
    "!git clone https://github.com/emipaz/practica_git.git"
   ]
  },
  {
   "cell_type": "code",
   "execution_count": 2,
   "metadata": {},
   "outputs": [
    {
     "name": "stdout",
     "output_type": "stream",
     "text": [
      "'Knowledge Check_ Git and GitHub _ Coursera.pdf'   Untitled.ipynb\n",
      " \u001b[0m\u001b[01;34mpractica_git\u001b[0m/\n"
     ]
    }
   ],
   "source": [
    "ls"
   ]
  },
  {
   "cell_type": "code",
   "execution_count": 3,
   "metadata": {},
   "outputs": [
    {
     "name": "stdout",
     "output_type": "stream",
     "text": [
      "/home/emi/Escritorio/Meta-/Back/03_git/Semana_3/practica_git\n"
     ]
    }
   ],
   "source": [
    "cd practica_git/"
   ]
  },
  {
   "cell_type": "code",
   "execution_count": 5,
   "metadata": {},
   "outputs": [
    {
     "name": "stdout",
     "output_type": "stream",
     "text": [
      "En la rama main\n",
      "Tu rama está actualizada con 'origin/main'.\n",
      "\n",
      "nada para hacer commit, el árbol de trabajo está limpio\n"
     ]
    }
   ],
   "source": [
    "!git status"
   ]
  },
  {
   "cell_type": "code",
   "execution_count": 7,
   "metadata": {},
   "outputs": [
    {
     "name": "stdout",
     "output_type": "stream",
     "text": [
      "\u001b[33mf78c646\u001b[m\u001b[33m (\u001b[m\u001b[1;36mHEAD -> \u001b[m\u001b[1;32mmain\u001b[m\u001b[33m, \u001b[m\u001b[1;31morigin/main\u001b[m\u001b[33m, \u001b[m\u001b[1;31morigin/HEAD\u001b[m\u001b[33m)\u001b[m jupyter apdate\n",
      "\u001b[33m25f59d0\u001b[m jupyter con codigo de git en clase\n",
      "\u001b[33m014d24b\u001b[m resuelto conflicto en auto.py\n",
      "\u001b[33m2e4e939\u001b[m Auto con argumantos en minuscula\n",
      "\u001b[33m11177d4\u001b[m cambios en auto.py argumentos en mayuscula\n",
      "\u001b[33mff922b1\u001b[m primer commit nueva-rama\n",
      "\u001b[33m3f7d27f\u001b[m corregido auto.py\n",
      "\u001b[33mfb51968\u001b[m aoto produccion\n",
      "\u001b[33mc0f5ad0\u001b[m Era aoto.py\n",
      "\u001b[33med0ef6b\u001b[m ignore\n",
      "\u001b[33m2ed36be\u001b[m emi\n",
      "\u001b[33me3fb83a\u001b[m Borramos diferencias y arreglamos el script\n",
      "\u001b[33m22cfc65\u001b[m primer commit\n"
     ]
    }
   ],
   "source": [
    "!git log --oneline"
   ]
  },
  {
   "cell_type": "code",
   "execution_count": 8,
   "metadata": {},
   "outputs": [],
   "source": [
    "!touch result.txt"
   ]
  },
  {
   "cell_type": "code",
   "execution_count": 9,
   "metadata": {},
   "outputs": [
    {
     "name": "stdout",
     "output_type": "stream",
     "text": [
      "archivo1.txt  archivo2.txt.orig  diferencias.txt  Git_Practica.ipynb  \u001b[0m\u001b[01;34mScripts\u001b[0m/\n",
      "archivo2.txt  auto.py            emi.txt          result.txt\n"
     ]
    }
   ],
   "source": [
    "ls"
   ]
  },
  {
   "cell_type": "code",
   "execution_count": 10,
   "metadata": {},
   "outputs": [],
   "source": [
    "!git add result.txt"
   ]
  },
  {
   "cell_type": "code",
   "execution_count": 11,
   "metadata": {},
   "outputs": [
    {
     "name": "stdout",
     "output_type": "stream",
     "text": [
      "En la rama main\n",
      "Tu rama está actualizada con 'origin/main'.\n",
      "\n",
      "Cambios a ser confirmados:\n",
      "  (usa \"git restore --staged <archivo>...\" para sacar del área de stage)\n",
      "\t\u001b[32mnuevos archivos: result.txt\u001b[m\n",
      "\n"
     ]
    }
   ],
   "source": [
    "!git status"
   ]
  },
  {
   "cell_type": "code",
   "execution_count": 12,
   "metadata": {},
   "outputs": [
    {
     "name": "stdout",
     "output_type": "stream",
     "text": [
      "[main 150dead] Successful exercise\n",
      " 1 file changed, 0 insertions(+), 0 deletions(-)\n",
      " create mode 100644 result.txt\n"
     ]
    }
   ],
   "source": [
    "!git commit -m \"Successful exercise\""
   ]
  },
  {
   "cell_type": "raw",
   "metadata": {},
   "source": [
    "emi@emi-All-Series:~/Escritorio/Meta-/Back/03_git/Semana_3/practica_git$ git push\n",
    "Username for 'https://github.com': emipaz1975\n",
    "Password for 'https://emipaz1975@github.com': \n",
    "\n",
    "Enumerando objetos: 3, listo.\n",
    "Contando objetos: 100% (3/3), listo.\n",
    "Compresión delta usando hasta 4 hilos\n",
    "Comprimiendo objetos: 100% (2/2), listo.\n",
    "Escribiendo objetos: 100% (2/2), 273 bytes | 273.00 KiB/s, listo.\n",
    "Total 2 (delta 1), reusados 0 (delta 0), pack-reusados 0\n",
    "remote: Resolving deltas: 100% (1/1), completed with 1 local object.\n",
    "To https://github.com/emipaz/practica_git.git\n",
    "   f78c646..150dead  main -> main"
   ]
  },
  {
   "cell_type": "code",
   "execution_count": 3,
   "metadata": {},
   "outputs": [
    {
     "name": "stdout",
     "output_type": "stream",
     "text": [
      "\u001b[33m150dead\u001b[m\u001b[33m (\u001b[m\u001b[1;36mHEAD -> \u001b[m\u001b[1;32mmain\u001b[m\u001b[33m, \u001b[m\u001b[1;31morigin/main\u001b[m\u001b[33m, \u001b[m\u001b[1;31morigin/HEAD\u001b[m\u001b[33m)\u001b[m Successful exercise\n",
      "\u001b[33mf78c646\u001b[m jupyter apdate\n",
      "\u001b[33m25f59d0\u001b[m jupyter con codigo de git en clase\n",
      "\u001b[33m014d24b\u001b[m resuelto conflicto en auto.py\n",
      "\u001b[33m2e4e939\u001b[m Auto con argumantos en minuscula\n",
      "\u001b[33m11177d4\u001b[m cambios en auto.py argumentos en mayuscula\n",
      "\u001b[33mff922b1\u001b[m primer commit nueva-rama\n",
      "\u001b[33m3f7d27f\u001b[m corregido auto.py\n",
      "\u001b[33mfb51968\u001b[m aoto produccion\n",
      "\u001b[33mc0f5ad0\u001b[m Era aoto.py\n",
      "\u001b[33med0ef6b\u001b[m ignore\n",
      "\u001b[33m2ed36be\u001b[m emi\n",
      "\u001b[33me3fb83a\u001b[m Borramos diferencias y arreglamos el script\n",
      "\u001b[33m22cfc65\u001b[m primer commit\n"
     ]
    }
   ],
   "source": [
    "!git log --oneline"
   ]
  },
  {
   "cell_type": "code",
   "execution_count": null,
   "metadata": {},
   "outputs": [],
   "source": []
  }
 ],
 "metadata": {
  "kernelspec": {
   "display_name": "anaconda",
   "language": "python",
   "name": "python3.7"
  },
  "language_info": {
   "codemirror_mode": {
    "name": "ipython",
    "version": 3
   },
   "file_extension": ".py",
   "mimetype": "text/x-python",
   "name": "python",
   "nbconvert_exporter": "python",
   "pygments_lexer": "ipython3",
   "version": "3.7.7"
  }
 },
 "nbformat": 4,
 "nbformat_minor": 4
}
