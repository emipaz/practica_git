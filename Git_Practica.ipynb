{
 "cells": [
  {
   "cell_type": "code",
   "execution_count": 2,
   "metadata": {},
   "outputs": [
    {
     "name": "stdout",
     "output_type": "stream",
     "text": [
      "* \u001b[33med0ef6b\u001b[m\u001b[33m (\u001b[m\u001b[1;36mHEAD -> \u001b[m\u001b[1;32mmain\u001b[m\u001b[33m)\u001b[m ignore\n",
      "* \u001b[33m2ed36be\u001b[m emi\n",
      "* \u001b[33me3fb83a\u001b[m Borramos diferencias y arreglamos el script\n",
      "* \u001b[33m22cfc65\u001b[m primer commit\n"
     ]
    }
   ],
   "source": [
    "!git lg"
   ]
  },
  {
   "cell_type": "code",
   "execution_count": 3,
   "metadata": {},
   "outputs": [],
   "source": [
    "!git reset e3fb83a"
   ]
  },
  {
   "cell_type": "code",
   "execution_count": 4,
   "metadata": {},
   "outputs": [
    {
     "name": "stdout",
     "output_type": "stream",
     "text": [
      "* \u001b[33me3fb83a\u001b[m\u001b[33m (\u001b[m\u001b[1;36mHEAD -> \u001b[m\u001b[1;32mmain\u001b[m\u001b[33m)\u001b[m Borramos diferencias y arreglamos el script\n",
      "* \u001b[33m22cfc65\u001b[m primer commit\n"
     ]
    }
   ],
   "source": [
    "!git lg"
   ]
  },
  {
   "cell_type": "code",
   "execution_count": 5,
   "metadata": {},
   "outputs": [
    {
     "name": "stdout",
     "output_type": "stream",
     "text": [
      "\u001b[33me3fb83a\u001b[m\u001b[33m (\u001b[m\u001b[1;36mHEAD -> \u001b[m\u001b[1;32mmain\u001b[m\u001b[33m)\u001b[m HEAD@{0}: reset: moving to e3fb83a\n",
      "\u001b[33med0ef6b\u001b[m HEAD@{1}: reset: moving to ed0ef6b\n",
      "\u001b[33me3fb83a\u001b[m\u001b[33m (\u001b[m\u001b[1;36mHEAD -> \u001b[m\u001b[1;32mmain\u001b[m\u001b[33m)\u001b[m HEAD@{2}: reset: moving to e3fb83a\n",
      "\u001b[33med0ef6b\u001b[m HEAD@{3}: commit: ignore\n",
      "\u001b[33m2ed36be\u001b[m HEAD@{4}: commit: emi\n",
      "\u001b[33me3fb83a\u001b[m\u001b[33m (\u001b[m\u001b[1;36mHEAD -> \u001b[m\u001b[1;32mmain\u001b[m\u001b[33m)\u001b[m HEAD@{5}: reset: moving to HEAD\n",
      "\u001b[33me3fb83a\u001b[m\u001b[33m (\u001b[m\u001b[1;36mHEAD -> \u001b[m\u001b[1;32mmain\u001b[m\u001b[33m)\u001b[m HEAD@{6}: reset: moving to HEAD^\n",
      "\u001b[33m6ff4004\u001b[m HEAD@{7}: reset: moving to HEAD\n",
      "\u001b[33m6ff4004\u001b[m HEAD@{8}: reset: moving to HEAD\n",
      "\u001b[33m6ff4004\u001b[m HEAD@{9}: reset: moving to HEAD\n",
      "\u001b[33m6ff4004\u001b[m HEAD@{10}: commit: agregamos el gitignore\n",
      "\u001b[33me3fb83a\u001b[m\u001b[33m (\u001b[m\u001b[1;36mHEAD -> \u001b[m\u001b[1;32mmain\u001b[m\u001b[33m)\u001b[m HEAD@{11}: commit: Borramos diferencias y arreglamos el script\n",
      "\u001b[33m22cfc65\u001b[m HEAD@{12}: commit (initial): primer commit\n"
     ]
    }
   ],
   "source": [
    "!git reflog"
   ]
  },
  {
   "cell_type": "code",
   "execution_count": 6,
   "metadata": {},
   "outputs": [],
   "source": [
    "!git reset ed0ef6b"
   ]
  },
  {
   "cell_type": "code",
   "execution_count": 7,
   "metadata": {},
   "outputs": [
    {
     "name": "stdout",
     "output_type": "stream",
     "text": [
      "* \u001b[33med0ef6b\u001b[m\u001b[33m (\u001b[m\u001b[1;36mHEAD -> \u001b[m\u001b[1;32mmain\u001b[m\u001b[33m)\u001b[m ignore\n",
      "* \u001b[33m2ed36be\u001b[m emi\n",
      "* \u001b[33me3fb83a\u001b[m Borramos diferencias y arreglamos el script\n",
      "* \u001b[33m22cfc65\u001b[m primer commit\n"
     ]
    }
   ],
   "source": [
    "!git lg"
   ]
  },
  {
   "cell_type": "code",
   "execution_count": 8,
   "metadata": {},
   "outputs": [
    {
     "name": "stdout",
     "output_type": "stream",
     "text": [
      "archivo1.txt  archivo2.txt.orig  emi.txt   Untitled.ipynb\n",
      "archivo2.txt  diferencias.txt    \u001b[0m\u001b[01;34mScripts\u001b[0m/\n"
     ]
    }
   ],
   "source": [
    "ls"
   ]
  },
  {
   "cell_type": "code",
   "execution_count": 9,
   "metadata": {},
   "outputs": [],
   "source": [
    "!touch aoto.py"
   ]
  },
  {
   "cell_type": "code",
   "execution_count": 10,
   "metadata": {},
   "outputs": [],
   "source": [
    "!git add aoto.py"
   ]
  },
  {
   "cell_type": "code",
   "execution_count": 11,
   "metadata": {},
   "outputs": [
    {
     "name": "stdout",
     "output_type": "stream",
     "text": [
      "[main dba5214] agregamos auto.py\n",
      " 1 file changed, 0 insertions(+), 0 deletions(-)\n",
      " create mode 100644 aoto.py\n"
     ]
    }
   ],
   "source": [
    "!git commit -m \"agregamos auto.py\""
   ]
  },
  {
   "cell_type": "code",
   "execution_count": 14,
   "metadata": {},
   "outputs": [
    {
     "name": "stdout",
     "output_type": "stream",
     "text": [
      "[main c0f5ad0] Era aoto.py\n",
      " Date: Sat Oct 22 10:26:02 2022 -0300\n",
      " 1 file changed, 0 insertions(+), 0 deletions(-)\n",
      " create mode 100644 aoto.py\n"
     ]
    }
   ],
   "source": [
    "!git commit --amend -m \"Era aoto.py\""
   ]
  },
  {
   "cell_type": "code",
   "execution_count": 15,
   "metadata": {},
   "outputs": [
    {
     "name": "stdout",
     "output_type": "stream",
     "text": [
      "* \u001b[33mc0f5ad0\u001b[m\u001b[33m (\u001b[m\u001b[1;36mHEAD -> \u001b[m\u001b[1;32mmain\u001b[m\u001b[33m)\u001b[m Era aoto.py\n",
      "* \u001b[33med0ef6b\u001b[m ignore\n",
      "* \u001b[33m2ed36be\u001b[m emi\n",
      "* \u001b[33me3fb83a\u001b[m Borramos diferencias y arreglamos el script\n",
      "* \u001b[33m22cfc65\u001b[m primer commit\n"
     ]
    }
   ],
   "source": [
    "!git lg"
   ]
  },
  {
   "cell_type": "code",
   "execution_count": 16,
   "metadata": {},
   "outputs": [
    {
     "name": "stdout",
     "output_type": "stream",
     "text": [
      "[main fb51968] aoto produccion\n",
      " 1 file changed, 3 insertions(+)\n"
     ]
    }
   ],
   "source": [
    "!git commit -am \"aoto produccion\""
   ]
  },
  {
   "cell_type": "code",
   "execution_count": 17,
   "metadata": {},
   "outputs": [
    {
     "name": "stdout",
     "output_type": "stream",
     "text": [
      "* \u001b[33mfb51968\u001b[m\u001b[33m (\u001b[m\u001b[1;36mHEAD -> \u001b[m\u001b[1;32mmain\u001b[m\u001b[33m)\u001b[m aoto produccion\n",
      "* \u001b[33mc0f5ad0\u001b[m Era aoto.py\n",
      "* \u001b[33med0ef6b\u001b[m ignore\n",
      "* \u001b[33m2ed36be\u001b[m emi\n",
      "* \u001b[33me3fb83a\u001b[m Borramos diferencias y arreglamos el script\n",
      "* \u001b[33m22cfc65\u001b[m primer commit\n"
     ]
    }
   ],
   "source": [
    "!git lg"
   ]
  },
  {
   "cell_type": "code",
   "execution_count": 20,
   "metadata": {},
   "outputs": [
    {
     "name": "stdout",
     "output_type": "stream",
     "text": [
      "* \u001b[33mfb51968\u001b[m\u001b[33m (\u001b[m\u001b[1;36mHEAD -> \u001b[m\u001b[1;32mmain\u001b[m\u001b[33m)\u001b[m aoto produccion\n",
      "* \u001b[33mc0f5ad0\u001b[m Era aoto.py\n",
      "* \u001b[33med0ef6b\u001b[m ignore\n",
      "* \u001b[33m2ed36be\u001b[m emi\n",
      "* \u001b[33me3fb83a\u001b[m Borramos diferencias y arreglamos el script\n",
      "* \u001b[33m22cfc65\u001b[m primer commit\n"
     ]
    }
   ],
   "source": [
    "!git lg"
   ]
  },
  {
   "cell_type": "markdown",
   "metadata": {},
   "source": [
    "!git revert HEAD # ejecutar desde la consola por que abre el nano o el vim"
   ]
  },
  {
   "cell_type": "code",
   "execution_count": 22,
   "metadata": {},
   "outputs": [],
   "source": [
    "!git mv aoto.py auto.py"
   ]
  },
  {
   "cell_type": "code",
   "execution_count": 23,
   "metadata": {},
   "outputs": [
    {
     "name": "stdout",
     "output_type": "stream",
     "text": [
      "archivo1.txt  archivo2.txt.orig  diferencias.txt  \u001b[0m\u001b[01;34mScripts\u001b[0m/\n",
      "archivo2.txt  auto.py            emi.txt          Untitled.ipynb\n"
     ]
    }
   ],
   "source": [
    "ls"
   ]
  },
  {
   "cell_type": "code",
   "execution_count": 24,
   "metadata": {},
   "outputs": [
    {
     "name": "stdout",
     "output_type": "stream",
     "text": [
      "## \u001b[32mmain\u001b[m\n",
      "\u001b[32mD\u001b[m  aoto.py\n",
      "\u001b[32mA\u001b[m  auto.py\n",
      "\u001b[31m??\u001b[m .ipynb_checkpoints/\n",
      "\u001b[31m??\u001b[m Scripts/.ipynb_checkpoints/\n",
      "\u001b[31m??\u001b[m Untitled.ipynb\n"
     ]
    }
   ],
   "source": [
    "!git s"
   ]
  },
  {
   "cell_type": "code",
   "execution_count": 25,
   "metadata": {},
   "outputs": [
    {
     "name": "stdout",
     "output_type": "stream",
     "text": [
      "[main 3f7d27f] corregido auto.py\n",
      " 2 files changed, 3 deletions(-)\n",
      " delete mode 100644 aoto.py\n",
      " create mode 100644 auto.py\n"
     ]
    }
   ],
   "source": [
    "!git commit -m \"corregido auto.py\""
   ]
  },
  {
   "cell_type": "code",
   "execution_count": 26,
   "metadata": {},
   "outputs": [
    {
     "name": "stdout",
     "output_type": "stream",
     "text": [
      "* \u001b[33m3f7d27f\u001b[m\u001b[33m (\u001b[m\u001b[1;36mHEAD -> \u001b[m\u001b[1;32mmain\u001b[m\u001b[33m)\u001b[m corregido auto.py\n",
      "* \u001b[33mfb51968\u001b[m aoto produccion\n",
      "* \u001b[33mc0f5ad0\u001b[m Era aoto.py\n",
      "* \u001b[33med0ef6b\u001b[m ignore\n",
      "* \u001b[33m2ed36be\u001b[m emi\n",
      "* \u001b[33me3fb83a\u001b[m Borramos diferencias y arreglamos el script\n",
      "* \u001b[33m22cfc65\u001b[m primer commit\n"
     ]
    }
   ],
   "source": [
    "!git lg"
   ]
  },
  {
   "cell_type": "code",
   "execution_count": 27,
   "metadata": {},
   "outputs": [
    {
     "name": "stdout",
     "output_type": "stream",
     "text": [
      "* \u001b[32mmain\u001b[m\n"
     ]
    }
   ],
   "source": [
    "!git branch"
   ]
  },
  {
   "cell_type": "code",
   "execution_count": 28,
   "metadata": {},
   "outputs": [],
   "source": [
    "!git branch nueva-rama"
   ]
  },
  {
   "cell_type": "code",
   "execution_count": 29,
   "metadata": {},
   "outputs": [
    {
     "name": "stdout",
     "output_type": "stream",
     "text": [
      "* \u001b[32mmain\u001b[m\n",
      "  nueva-rama\u001b[m\n"
     ]
    }
   ],
   "source": [
    "!git branch"
   ]
  },
  {
   "cell_type": "code",
   "execution_count": 30,
   "metadata": {},
   "outputs": [
    {
     "name": "stdout",
     "output_type": "stream",
     "text": [
      "Cambiado a rama 'nueva-rama'\n"
     ]
    }
   ],
   "source": [
    "!git checkout nueva-rama"
   ]
  },
  {
   "cell_type": "code",
   "execution_count": 31,
   "metadata": {},
   "outputs": [
    {
     "name": "stdout",
     "output_type": "stream",
     "text": [
      "  main\u001b[m\n",
      "* \u001b[32mnueva-rama\u001b[m\n"
     ]
    }
   ],
   "source": [
    "!git branch"
   ]
  },
  {
   "cell_type": "code",
   "execution_count": 32,
   "metadata": {},
   "outputs": [
    {
     "name": "stdout",
     "output_type": "stream",
     "text": [
      "archivo1.txt  archivo2.txt.orig  diferencias.txt  \u001b[0m\u001b[01;34mScripts\u001b[0m/\n",
      "archivo2.txt  auto.py            emi.txt          Untitled.ipynb\n"
     ]
    }
   ],
   "source": [
    "ls"
   ]
  },
  {
   "cell_type": "code",
   "execution_count": 35,
   "metadata": {},
   "outputs": [
    {
     "name": "stdout",
     "output_type": "stream",
     "text": [
      "Overwriting auto.py\n"
     ]
    }
   ],
   "source": [
    "%%writefile auto.py\n",
    "import sys\n",
    "\n",
    "print(sys.argv)"
   ]
  },
  {
   "cell_type": "code",
   "execution_count": 36,
   "metadata": {},
   "outputs": [
    {
     "name": "stdout",
     "output_type": "stream",
     "text": [
      "import sys\n",
      "\n",
      "print(sys.argv)\n"
     ]
    }
   ],
   "source": [
    "!cat auto.py"
   ]
  },
  {
   "cell_type": "code",
   "execution_count": 37,
   "metadata": {},
   "outputs": [
    {
     "name": "stdout",
     "output_type": "stream",
     "text": [
      "['auto.py', 'hola', 'walter']\n"
     ]
    }
   ],
   "source": [
    "%run auto.py hola walter"
   ]
  },
  {
   "cell_type": "code",
   "execution_count": 38,
   "metadata": {},
   "outputs": [
    {
     "name": "stdout",
     "output_type": "stream",
     "text": [
      "## \u001b[32mnueva-rama\u001b[m\n",
      " \u001b[31mM\u001b[m auto.py\n",
      "\u001b[31m??\u001b[m .ipynb_checkpoints/\n",
      "\u001b[31m??\u001b[m Scripts/.ipynb_checkpoints/\n",
      "\u001b[31m??\u001b[m Untitled.ipynb\n"
     ]
    }
   ],
   "source": [
    "!git s"
   ]
  },
  {
   "cell_type": "code",
   "execution_count": 39,
   "metadata": {},
   "outputs": [
    {
     "name": "stdout",
     "output_type": "stream",
     "text": [
      "* \u001b[33m3f7d27f\u001b[m\u001b[33m (\u001b[m\u001b[1;36mHEAD -> \u001b[m\u001b[1;32mnueva-rama\u001b[m\u001b[33m, \u001b[m\u001b[1;32mmain\u001b[m\u001b[33m)\u001b[m corregido auto.py\n",
      "* \u001b[33mfb51968\u001b[m aoto produccion\n",
      "* \u001b[33mc0f5ad0\u001b[m Era aoto.py\n",
      "* \u001b[33med0ef6b\u001b[m ignore\n",
      "* \u001b[33m2ed36be\u001b[m emi\n",
      "* \u001b[33me3fb83a\u001b[m Borramos diferencias y arreglamos el script\n",
      "* \u001b[33m22cfc65\u001b[m primer commit\n"
     ]
    }
   ],
   "source": [
    "!git lg"
   ]
  },
  {
   "cell_type": "code",
   "execution_count": 40,
   "metadata": {},
   "outputs": [],
   "source": [
    "!git add auto.py"
   ]
  },
  {
   "cell_type": "code",
   "execution_count": 41,
   "metadata": {},
   "outputs": [
    {
     "name": "stdout",
     "output_type": "stream",
     "text": [
      "## \u001b[32mnueva-rama\u001b[m\n",
      "\u001b[32mM\u001b[m  auto.py\n",
      "\u001b[31m??\u001b[m .ipynb_checkpoints/\n",
      "\u001b[31m??\u001b[m Scripts/.ipynb_checkpoints/\n",
      "\u001b[31m??\u001b[m Untitled.ipynb\n"
     ]
    }
   ],
   "source": [
    "!git s"
   ]
  },
  {
   "cell_type": "code",
   "execution_count": 42,
   "metadata": {},
   "outputs": [
    {
     "name": "stdout",
     "output_type": "stream",
     "text": [
      "[nueva-rama ff922b1] primer commit nueva-rama\n",
      " 1 file changed, 3 insertions(+)\n"
     ]
    }
   ],
   "source": [
    "!git commit -m \"primer commit nueva-rama\""
   ]
  },
  {
   "cell_type": "code",
   "execution_count": 43,
   "metadata": {},
   "outputs": [
    {
     "name": "stdout",
     "output_type": "stream",
     "text": [
      "* \u001b[33mff922b1\u001b[m\u001b[33m (\u001b[m\u001b[1;36mHEAD -> \u001b[m\u001b[1;32mnueva-rama\u001b[m\u001b[33m)\u001b[m primer commit nueva-rama\n",
      "* \u001b[33m3f7d27f\u001b[m\u001b[33m (\u001b[m\u001b[1;32mmain\u001b[m\u001b[33m)\u001b[m corregido auto.py\n",
      "* \u001b[33mfb51968\u001b[m aoto produccion\n",
      "* \u001b[33mc0f5ad0\u001b[m Era aoto.py\n",
      "* \u001b[33med0ef6b\u001b[m ignore\n",
      "* \u001b[33m2ed36be\u001b[m emi\n",
      "* \u001b[33me3fb83a\u001b[m Borramos diferencias y arreglamos el script\n",
      "* \u001b[33m22cfc65\u001b[m primer commit\n"
     ]
    }
   ],
   "source": [
    "!git lg"
   ]
  },
  {
   "cell_type": "code",
   "execution_count": 44,
   "metadata": {},
   "outputs": [
    {
     "name": "stdout",
     "output_type": "stream",
     "text": [
      "Cambiado a rama 'main'\n"
     ]
    }
   ],
   "source": [
    "!git checkout main"
   ]
  },
  {
   "cell_type": "code",
   "execution_count": 45,
   "metadata": {},
   "outputs": [
    {
     "name": "stdout",
     "output_type": "stream",
     "text": [
      "* \u001b[33mff922b1\u001b[m\u001b[33m (\u001b[m\u001b[1;32mnueva-rama\u001b[m\u001b[33m)\u001b[m primer commit nueva-rama\n",
      "* \u001b[33m3f7d27f\u001b[m\u001b[33m (\u001b[m\u001b[1;36mHEAD -> \u001b[m\u001b[1;32mmain\u001b[m\u001b[33m)\u001b[m corregido auto.py\n",
      "* \u001b[33mfb51968\u001b[m aoto produccion\n",
      "* \u001b[33mc0f5ad0\u001b[m Era aoto.py\n",
      "* \u001b[33med0ef6b\u001b[m ignore\n",
      "* \u001b[33m2ed36be\u001b[m emi\n",
      "* \u001b[33me3fb83a\u001b[m Borramos diferencias y arreglamos el script\n",
      "* \u001b[33m22cfc65\u001b[m primer commit\n"
     ]
    }
   ],
   "source": [
    "!git lg"
   ]
  },
  {
   "cell_type": "code",
   "execution_count": 46,
   "metadata": {},
   "outputs": [
    {
     "name": "stdout",
     "output_type": "stream",
     "text": [
      "Actualizando 3f7d27f..ff922b1\n",
      "Fast-forward\n",
      " auto.py | 3 \u001b[32m+++\u001b[m\n",
      " 1 file changed, 3 insertions(+)\n"
     ]
    }
   ],
   "source": [
    "!git merge nueva-rama"
   ]
  },
  {
   "cell_type": "code",
   "execution_count": 48,
   "metadata": {},
   "outputs": [
    {
     "name": "stdout",
     "output_type": "stream",
     "text": [
      "['auto.py', 'hola', 'walter', 'que', 'tal']\n"
     ]
    }
   ],
   "source": [
    "%run auto.py hola walter que tal"
   ]
  },
  {
   "cell_type": "code",
   "execution_count": 49,
   "metadata": {},
   "outputs": [
    {
     "name": "stdout",
     "output_type": "stream",
     "text": [
      "import sys\n",
      "\n",
      "print(sys.argv)\n"
     ]
    }
   ],
   "source": [
    "%cat auto.py"
   ]
  },
  {
   "cell_type": "code",
   "execution_count": 51,
   "metadata": {},
   "outputs": [
    {
     "name": "stdout",
     "output_type": "stream",
     "text": [
      "* \u001b[33mff922b1\u001b[m\u001b[33m (\u001b[m\u001b[1;36mHEAD -> \u001b[m\u001b[1;32mmain\u001b[m\u001b[33m, \u001b[m\u001b[1;32mnueva-rama\u001b[m\u001b[33m)\u001b[m primer commit nueva-rama\n",
      "* \u001b[33m3f7d27f\u001b[m corregido auto.py\n",
      "* \u001b[33mfb51968\u001b[m aoto produccion\n",
      "* \u001b[33mc0f5ad0\u001b[m Era aoto.py\n",
      "* \u001b[33med0ef6b\u001b[m ignore\n",
      "* \u001b[33m2ed36be\u001b[m emi\n",
      "* \u001b[33me3fb83a\u001b[m Borramos diferencias y arreglamos el script\n",
      "* \u001b[33m22cfc65\u001b[m primer commit\n"
     ]
    }
   ],
   "source": [
    "!git lg"
   ]
  },
  {
   "cell_type": "code",
   "execution_count": 52,
   "metadata": {},
   "outputs": [
    {
     "name": "stdout",
     "output_type": "stream",
     "text": [
      "HOLA\n",
      "WALTER\n",
      "QUE\n",
      "TAL\n"
     ]
    }
   ],
   "source": [
    "%run auto.py hola walter que tal"
   ]
  },
  {
   "cell_type": "code",
   "execution_count": 53,
   "metadata": {},
   "outputs": [],
   "source": [
    "!git add auto.py"
   ]
  },
  {
   "cell_type": "code",
   "execution_count": 54,
   "metadata": {},
   "outputs": [
    {
     "name": "stdout",
     "output_type": "stream",
     "text": [
      "[main 11177d4] cambios en auto.py argumentos en mayuscula\n",
      " 1 file changed, 3 insertions(+), 1 deletion(-)\n"
     ]
    }
   ],
   "source": [
    "!git commit -m \"cambios en auto.py argumentos en mayuscula\""
   ]
  },
  {
   "cell_type": "code",
   "execution_count": 55,
   "metadata": {},
   "outputs": [
    {
     "name": "stdout",
     "output_type": "stream",
     "text": [
      "* \u001b[33m11177d4\u001b[m\u001b[33m (\u001b[m\u001b[1;36mHEAD -> \u001b[m\u001b[1;32mmain\u001b[m\u001b[33m)\u001b[m cambios en auto.py argumentos en mayuscula\n",
      "* \u001b[33mff922b1\u001b[m\u001b[33m (\u001b[m\u001b[1;32mnueva-rama\u001b[m\u001b[33m)\u001b[m primer commit nueva-rama\n",
      "* \u001b[33m3f7d27f\u001b[m corregido auto.py\n",
      "* \u001b[33mfb51968\u001b[m aoto produccion\n",
      "* \u001b[33mc0f5ad0\u001b[m Era aoto.py\n",
      "* \u001b[33med0ef6b\u001b[m ignore\n",
      "* \u001b[33m2ed36be\u001b[m emi\n",
      "* \u001b[33me3fb83a\u001b[m Borramos diferencias y arreglamos el script\n",
      "* \u001b[33m22cfc65\u001b[m primer commit\n"
     ]
    }
   ],
   "source": [
    "!git lg"
   ]
  },
  {
   "cell_type": "code",
   "execution_count": 56,
   "metadata": {},
   "outputs": [
    {
     "name": "stdout",
     "output_type": "stream",
     "text": [
      "Cambiado a rama 'nueva-rama'\n"
     ]
    }
   ],
   "source": [
    "!git checkout nueva-rama"
   ]
  },
  {
   "cell_type": "code",
   "execution_count": 57,
   "metadata": {},
   "outputs": [
    {
     "name": "stdout",
     "output_type": "stream",
     "text": [
      "* \u001b[33m11177d4\u001b[m\u001b[33m (\u001b[m\u001b[1;32mmain\u001b[m\u001b[33m)\u001b[m cambios en auto.py argumentos en mayuscula\n",
      "* \u001b[33mff922b1\u001b[m\u001b[33m (\u001b[m\u001b[1;36mHEAD -> \u001b[m\u001b[1;32mnueva-rama\u001b[m\u001b[33m)\u001b[m primer commit nueva-rama\n",
      "* \u001b[33m3f7d27f\u001b[m corregido auto.py\n",
      "* \u001b[33mfb51968\u001b[m aoto produccion\n",
      "* \u001b[33mc0f5ad0\u001b[m Era aoto.py\n",
      "* \u001b[33med0ef6b\u001b[m ignore\n",
      "* \u001b[33m2ed36be\u001b[m emi\n",
      "* \u001b[33me3fb83a\u001b[m Borramos diferencias y arreglamos el script\n",
      "* \u001b[33m22cfc65\u001b[m primer commit\n"
     ]
    }
   ],
   "source": [
    "!git lg"
   ]
  },
  {
   "cell_type": "code",
   "execution_count": 58,
   "metadata": {},
   "outputs": [
    {
     "name": "stdout",
     "output_type": "stream",
     "text": [
      "import sys\n",
      "\n",
      "print(sys.argv)\n"
     ]
    }
   ],
   "source": [
    "%cat auto.py"
   ]
  },
  {
   "cell_type": "code",
   "execution_count": 59,
   "metadata": {},
   "outputs": [
    {
     "name": "stdout",
     "output_type": "stream",
     "text": [
      "['auto.py', 'hola', 'walter', 'que', 'tal']\n",
      "auto.py\n",
      "hola\n",
      "walter\n",
      "que\n",
      "tal\n"
     ]
    }
   ],
   "source": [
    "%run auto.py hola walter que tal"
   ]
  },
  {
   "cell_type": "code",
   "execution_count": 60,
   "metadata": {},
   "outputs": [
    {
     "name": "stdout",
     "output_type": "stream",
     "text": [
      "[nueva-rama 2e4e939] Auto con argumantos en minuscula\n",
      " 1 file changed, 3 insertions(+), 1 deletion(-)\n"
     ]
    }
   ],
   "source": [
    "!git add auto.py\n",
    "!git commit -m \"Auto con argumantos en minuscula\""
   ]
  },
  {
   "cell_type": "code",
   "execution_count": 61,
   "metadata": {},
   "outputs": [
    {
     "name": "stdout",
     "output_type": "stream",
     "text": [
      "* \u001b[33m2e4e939\u001b[m\u001b[33m (\u001b[m\u001b[1;36mHEAD -> \u001b[m\u001b[1;32mnueva-rama\u001b[m\u001b[33m)\u001b[m Auto con argumantos en minuscula\n",
      "\u001b[31m|\u001b[m * \u001b[33m11177d4\u001b[m\u001b[33m (\u001b[m\u001b[1;32mmain\u001b[m\u001b[33m)\u001b[m cambios en auto.py argumentos en mayuscula\n",
      "\u001b[31m|\u001b[m\u001b[31m/\u001b[m  \n",
      "* \u001b[33mff922b1\u001b[m primer commit nueva-rama\n",
      "* \u001b[33m3f7d27f\u001b[m corregido auto.py\n",
      "* \u001b[33mfb51968\u001b[m aoto produccion\n",
      "* \u001b[33mc0f5ad0\u001b[m Era aoto.py\n",
      "* \u001b[33med0ef6b\u001b[m ignore\n",
      "* \u001b[33m2ed36be\u001b[m emi\n",
      "* \u001b[33me3fb83a\u001b[m Borramos diferencias y arreglamos el script\n",
      "* \u001b[33m22cfc65\u001b[m primer commit\n"
     ]
    }
   ],
   "source": [
    "!git lg"
   ]
  },
  {
   "cell_type": "code",
   "execution_count": 63,
   "metadata": {},
   "outputs": [
    {
     "name": "stdout",
     "output_type": "stream",
     "text": [
      "Cambiado a rama 'main'\n"
     ]
    }
   ],
   "source": [
    "!git checkout main"
   ]
  },
  {
   "cell_type": "code",
   "execution_count": 64,
   "metadata": {},
   "outputs": [
    {
     "name": "stdout",
     "output_type": "stream",
     "text": [
      "HOLA\n",
      "WALTER\n",
      "QUE\n",
      "TAL\n"
     ]
    }
   ],
   "source": [
    "%run auto.py hola walter que tal"
   ]
  },
  {
   "cell_type": "code",
   "execution_count": 65,
   "metadata": {},
   "outputs": [
    {
     "name": "stdout",
     "output_type": "stream",
     "text": [
      "* \u001b[33m2e4e939\u001b[m\u001b[33m (\u001b[m\u001b[1;32mnueva-rama\u001b[m\u001b[33m)\u001b[m Auto con argumantos en minuscula\n",
      "\u001b[31m|\u001b[m * \u001b[33m11177d4\u001b[m\u001b[33m (\u001b[m\u001b[1;36mHEAD -> \u001b[m\u001b[1;32mmain\u001b[m\u001b[33m)\u001b[m cambios en auto.py argumentos en mayuscula\n",
      "\u001b[31m|\u001b[m\u001b[31m/\u001b[m  \n",
      "* \u001b[33mff922b1\u001b[m primer commit nueva-rama\n",
      "* \u001b[33m3f7d27f\u001b[m corregido auto.py\n",
      "* \u001b[33mfb51968\u001b[m aoto produccion\n",
      "* \u001b[33mc0f5ad0\u001b[m Era aoto.py\n",
      "* \u001b[33med0ef6b\u001b[m ignore\n",
      "* \u001b[33m2ed36be\u001b[m emi\n",
      "* \u001b[33me3fb83a\u001b[m Borramos diferencias y arreglamos el script\n",
      "* \u001b[33m22cfc65\u001b[m primer commit\n"
     ]
    }
   ],
   "source": [
    "!git lg"
   ]
  },
  {
   "cell_type": "code",
   "execution_count": 66,
   "metadata": {},
   "outputs": [
    {
     "name": "stdout",
     "output_type": "stream",
     "text": [
      "Auto-fusionando auto.py\n",
      "CONFLICTO (contenido): Conflicto de fusión en auto.py\n",
      "Fusión automática falló; arregle los conflictos y luego realice un commit con el resultado.\n"
     ]
    }
   ],
   "source": [
    "!git merge nueva-rama"
   ]
  },
  {
   "cell_type": "code",
   "execution_count": 67,
   "metadata": {},
   "outputs": [
    {
     "name": "stdout",
     "output_type": "stream",
     "text": [
      "['auto.py', 'hola', 'walter', 'que', 'tal']\n",
      "AUTO.PY\n",
      "HOLA\n",
      "WALTER\n",
      "QUE\n",
      "TAL\n"
     ]
    }
   ],
   "source": [
    "%run auto.py hola walter que tal"
   ]
  },
  {
   "cell_type": "code",
   "execution_count": 68,
   "metadata": {},
   "outputs": [
    {
     "name": "stdout",
     "output_type": "stream",
     "text": [
      "## \u001b[32mmain\u001b[m\n",
      "\u001b[31mUU\u001b[m auto.py\n",
      "\u001b[31m??\u001b[m .ipynb_checkpoints/\n",
      "\u001b[31m??\u001b[m Scripts/.ipynb_checkpoints/\n",
      "\u001b[31m??\u001b[m Untitled.ipynb\n"
     ]
    }
   ],
   "source": [
    "!git s"
   ]
  },
  {
   "cell_type": "code",
   "execution_count": 69,
   "metadata": {},
   "outputs": [
    {
     "name": "stdout",
     "output_type": "stream",
     "text": [
      "U\tauto.py\n",
      "error: No es posible realizar un commit porque tienes archivos sin fusionar.\n",
      "\u001b[33mayuda: Corrígelos en el árbol de trabajo y entonces usa 'git add/rm <archivo>',\u001b[m\n",
      "\u001b[33mayuda: como sea apropiado, para marcar la resolución y realizar un commit.\u001b[m\n",
      "fatal: Saliendo porque existe un conflicto sin resolver.\n"
     ]
    }
   ],
   "source": [
    "!git commit -m \"resuelto conflicto en auto.py\""
   ]
  },
  {
   "cell_type": "code",
   "execution_count": 70,
   "metadata": {},
   "outputs": [
    {
     "name": "stdout",
     "output_type": "stream",
     "text": [
      "## \u001b[32mmain\u001b[m\n",
      "\u001b[31mUU\u001b[m auto.py\n",
      "\u001b[31m??\u001b[m .ipynb_checkpoints/\n",
      "\u001b[31m??\u001b[m Scripts/.ipynb_checkpoints/\n",
      "\u001b[31m??\u001b[m Untitled.ipynb\n"
     ]
    }
   ],
   "source": [
    "!git s"
   ]
  },
  {
   "cell_type": "code",
   "execution_count": 71,
   "metadata": {},
   "outputs": [],
   "source": [
    "!git add auto.py"
   ]
  },
  {
   "cell_type": "code",
   "execution_count": 72,
   "metadata": {},
   "outputs": [
    {
     "name": "stdout",
     "output_type": "stream",
     "text": [
      "## \u001b[32mmain\u001b[m\n",
      "\u001b[32mM\u001b[m  auto.py\n",
      "\u001b[31m??\u001b[m .ipynb_checkpoints/\n",
      "\u001b[31m??\u001b[m Scripts/.ipynb_checkpoints/\n",
      "\u001b[31m??\u001b[m Untitled.ipynb\n"
     ]
    }
   ],
   "source": [
    "!git s"
   ]
  },
  {
   "cell_type": "code",
   "execution_count": 73,
   "metadata": {},
   "outputs": [
    {
     "name": "stdout",
     "output_type": "stream",
     "text": [
      "[main 014d24b] resuelto conflicto en auto.py\n"
     ]
    }
   ],
   "source": [
    "!git commit -m \"resuelto conflicto en auto.py\""
   ]
  },
  {
   "cell_type": "code",
   "execution_count": 74,
   "metadata": {},
   "outputs": [
    {
     "name": "stdout",
     "output_type": "stream",
     "text": [
      "*   \u001b[33m014d24b\u001b[m\u001b[33m (\u001b[m\u001b[1;36mHEAD -> \u001b[m\u001b[1;32mmain\u001b[m\u001b[33m)\u001b[m resuelto conflicto en auto.py\n",
      "\u001b[31m|\u001b[m\u001b[32m\\\u001b[m  \n",
      "\u001b[31m|\u001b[m * \u001b[33m2e4e939\u001b[m\u001b[33m (\u001b[m\u001b[1;32mnueva-rama\u001b[m\u001b[33m)\u001b[m Auto con argumantos en minuscula\n",
      "* \u001b[32m|\u001b[m \u001b[33m11177d4\u001b[m cambios en auto.py argumentos en mayuscula\n",
      "\u001b[32m|\u001b[m\u001b[32m/\u001b[m  \n",
      "* \u001b[33mff922b1\u001b[m primer commit nueva-rama\n",
      "* \u001b[33m3f7d27f\u001b[m corregido auto.py\n",
      "* \u001b[33mfb51968\u001b[m aoto produccion\n",
      "* \u001b[33mc0f5ad0\u001b[m Era aoto.py\n",
      "* \u001b[33med0ef6b\u001b[m ignore\n",
      "* \u001b[33m2ed36be\u001b[m emi\n",
      "* \u001b[33me3fb83a\u001b[m Borramos diferencias y arreglamos el script\n",
      "* \u001b[33m22cfc65\u001b[m primer commit\n"
     ]
    }
   ],
   "source": [
    "!git lg"
   ]
  },
  {
   "cell_type": "code",
   "execution_count": 75,
   "metadata": {},
   "outputs": [],
   "source": [
    "!git remote add origin \"https://github.com/emipaz/practica_git.git\""
   ]
  },
  {
   "cell_type": "code",
   "execution_count": 76,
   "metadata": {},
   "outputs": [
    {
     "name": "stdout",
     "output_type": "stream",
     "text": [
      "*   \u001b[33m014d24b\u001b[m\u001b[33m (\u001b[m\u001b[1;36mHEAD -> \u001b[m\u001b[1;32mmain\u001b[m\u001b[33m)\u001b[m resuelto conflicto en auto.py\n",
      "\u001b[31m|\u001b[m\u001b[32m\\\u001b[m  \n",
      "\u001b[31m|\u001b[m * \u001b[33m2e4e939\u001b[m\u001b[33m (\u001b[m\u001b[1;32mnueva-rama\u001b[m\u001b[33m)\u001b[m Auto con argumantos en minuscula\n",
      "* \u001b[32m|\u001b[m \u001b[33m11177d4\u001b[m cambios en auto.py argumentos en mayuscula\n",
      "\u001b[32m|\u001b[m\u001b[32m/\u001b[m  \n",
      "* \u001b[33mff922b1\u001b[m primer commit nueva-rama\n",
      "* \u001b[33m3f7d27f\u001b[m corregido auto.py\n",
      "* \u001b[33mfb51968\u001b[m aoto produccion\n",
      "* \u001b[33mc0f5ad0\u001b[m Era aoto.py\n",
      "* \u001b[33med0ef6b\u001b[m ignore\n",
      "* \u001b[33m2ed36be\u001b[m emi\n",
      "* \u001b[33me3fb83a\u001b[m Borramos diferencias y arreglamos el script\n",
      "* \u001b[33m22cfc65\u001b[m primer commit\n"
     ]
    }
   ],
   "source": [
    "!git lg"
   ]
  },
  {
   "cell_type": "code",
   "execution_count": null,
   "metadata": {},
   "outputs": [],
   "source": []
  }
 ],
 "metadata": {
  "kernelspec": {
   "display_name": "Python 3",
   "language": "python",
   "name": "python3"
  },
  "language_info": {
   "codemirror_mode": {
    "name": "ipython",
    "version": 3
   },
   "file_extension": ".py",
   "mimetype": "text/x-python",
   "name": "python",
   "nbconvert_exporter": "python",
   "pygments_lexer": "ipython3",
   "version": "3.6.9"
  }
 },
 "nbformat": 4,
 "nbformat_minor": 4
}
